{
 "cells": [
  {
   "cell_type": "markdown",
   "id": "b910300e",
   "metadata": {},
   "source": [
    "# The Spark Foundation (GRIP)"
   ]
  },
  {
   "cell_type": "markdown",
   "id": "f686ee99",
   "metadata": {},
   "source": [
    "# Data Science and Business Analytics Internship"
   ]
  },
  {
   "cell_type": "markdown",
   "id": "775cf32c",
   "metadata": {},
   "source": [
    "# Task 2 - Prediction Using Unsupervised ML"
   ]
  },
  {
   "cell_type": "markdown",
   "id": "0a4ec576",
   "metadata": {},
   "source": [
    "# Author Name: Prashanth B"
   ]
  },
  {
   "cell_type": "markdown",
   "id": "61bde13c",
   "metadata": {},
   "source": [
    "IMPORT ALL THE RELEVANT LIBRARIES REQUIRED"
   ]
  },
  {
   "cell_type": "code",
   "execution_count": 3,
   "id": "f2d80024",
   "metadata": {},
   "outputs": [],
   "source": [
    "import numpy as np\n",
    "import pandas as pd\n",
    "import seaborn as sns\n",
    "%matplotlib inline\n",
    "import matplotlib.pyplot as plt"
   ]
  },
  {
   "cell_type": "markdown",
   "id": "155e4172",
   "metadata": {},
   "source": [
    "LOAD DATA"
   ]
  },
  {
   "cell_type": "code",
   "execution_count": 4,
   "id": "22ba1a98",
   "metadata": {},
   "outputs": [
    {
     "data": {
      "text/html": [
       "<div>\n",
       "<style scoped>\n",
       "    .dataframe tbody tr th:only-of-type {\n",
       "        vertical-align: middle;\n",
       "    }\n",
       "\n",
       "    .dataframe tbody tr th {\n",
       "        vertical-align: top;\n",
       "    }\n",
       "\n",
       "    .dataframe thead th {\n",
       "        text-align: right;\n",
       "    }\n",
       "</style>\n",
       "<table border=\"1\" class=\"dataframe\">\n",
       "  <thead>\n",
       "    <tr style=\"text-align: right;\">\n",
       "      <th></th>\n",
       "      <th>Id</th>\n",
       "      <th>SepalLengthCm</th>\n",
       "      <th>SepalWidthCm</th>\n",
       "      <th>PetalLengthCm</th>\n",
       "      <th>PetalWidthCm</th>\n",
       "      <th>Species</th>\n",
       "    </tr>\n",
       "  </thead>\n",
       "  <tbody>\n",
       "    <tr>\n",
       "      <th>0</th>\n",
       "      <td>1</td>\n",
       "      <td>5.1</td>\n",
       "      <td>3.5</td>\n",
       "      <td>1.4</td>\n",
       "      <td>0.2</td>\n",
       "      <td>Iris-setosa</td>\n",
       "    </tr>\n",
       "    <tr>\n",
       "      <th>1</th>\n",
       "      <td>2</td>\n",
       "      <td>4.9</td>\n",
       "      <td>3.0</td>\n",
       "      <td>1.4</td>\n",
       "      <td>0.2</td>\n",
       "      <td>Iris-setosa</td>\n",
       "    </tr>\n",
       "    <tr>\n",
       "      <th>2</th>\n",
       "      <td>3</td>\n",
       "      <td>4.7</td>\n",
       "      <td>3.2</td>\n",
       "      <td>1.3</td>\n",
       "      <td>0.2</td>\n",
       "      <td>Iris-setosa</td>\n",
       "    </tr>\n",
       "    <tr>\n",
       "      <th>3</th>\n",
       "      <td>4</td>\n",
       "      <td>4.6</td>\n",
       "      <td>3.1</td>\n",
       "      <td>1.5</td>\n",
       "      <td>0.2</td>\n",
       "      <td>Iris-setosa</td>\n",
       "    </tr>\n",
       "    <tr>\n",
       "      <th>4</th>\n",
       "      <td>5</td>\n",
       "      <td>5.0</td>\n",
       "      <td>3.6</td>\n",
       "      <td>1.4</td>\n",
       "      <td>0.2</td>\n",
       "      <td>Iris-setosa</td>\n",
       "    </tr>\n",
       "  </tbody>\n",
       "</table>\n",
       "</div>"
      ],
      "text/plain": [
       "   Id  SepalLengthCm  SepalWidthCm  PetalLengthCm  PetalWidthCm      Species\n",
       "0   1            5.1           3.5            1.4           0.2  Iris-setosa\n",
       "1   2            4.9           3.0            1.4           0.2  Iris-setosa\n",
       "2   3            4.7           3.2            1.3           0.2  Iris-setosa\n",
       "3   4            4.6           3.1            1.5           0.2  Iris-setosa\n",
       "4   5            5.0           3.6            1.4           0.2  Iris-setosa"
      ]
     },
     "execution_count": 4,
     "metadata": {},
     "output_type": "execute_result"
    }
   ],
   "source": [
    "data = pd.read_csv(\"Iris.csv\")\n",
    "data.head()"
   ]
  },
  {
   "cell_type": "markdown",
   "id": "a2332e37",
   "metadata": {},
   "source": [
    "EXPLORATORY DATA ANALYSIS"
   ]
  },
  {
   "cell_type": "code",
   "execution_count": 7,
   "id": "15f57079",
   "metadata": {},
   "outputs": [
    {
     "data": {
      "text/plain": [
       "(150, 6)"
      ]
     },
     "execution_count": 7,
     "metadata": {},
     "output_type": "execute_result"
    }
   ],
   "source": [
    "data.shape"
   ]
  },
  {
   "cell_type": "code",
   "execution_count": 8,
   "id": "58e7f203",
   "metadata": {},
   "outputs": [
    {
     "data": {
      "text/plain": [
       "Index(['Id', 'SepalLengthCm', 'SepalWidthCm', 'PetalLengthCm', 'PetalWidthCm',\n",
       "       'Species'],\n",
       "      dtype='object')"
      ]
     },
     "execution_count": 8,
     "metadata": {},
     "output_type": "execute_result"
    }
   ],
   "source": [
    "data.columns"
   ]
  },
  {
   "cell_type": "code",
   "execution_count": 9,
   "id": "8fa0e50f",
   "metadata": {},
   "outputs": [
    {
     "name": "stdout",
     "output_type": "stream",
     "text": [
      "<class 'pandas.core.frame.DataFrame'>\n",
      "RangeIndex: 150 entries, 0 to 149\n",
      "Data columns (total 6 columns):\n",
      " #   Column         Non-Null Count  Dtype  \n",
      "---  ------         --------------  -----  \n",
      " 0   Id             150 non-null    int64  \n",
      " 1   SepalLengthCm  150 non-null    float64\n",
      " 2   SepalWidthCm   150 non-null    float64\n",
      " 3   PetalLengthCm  150 non-null    float64\n",
      " 4   PetalWidthCm   150 non-null    float64\n",
      " 5   Species        150 non-null    object \n",
      "dtypes: float64(4), int64(1), object(1)\n",
      "memory usage: 7.2+ KB\n"
     ]
    }
   ],
   "source": [
    "data.info()"
   ]
  },
  {
   "cell_type": "code",
   "execution_count": 10,
   "id": "30e3e169",
   "metadata": {},
   "outputs": [
    {
     "data": {
      "text/html": [
       "<div>\n",
       "<style scoped>\n",
       "    .dataframe tbody tr th:only-of-type {\n",
       "        vertical-align: middle;\n",
       "    }\n",
       "\n",
       "    .dataframe tbody tr th {\n",
       "        vertical-align: top;\n",
       "    }\n",
       "\n",
       "    .dataframe thead th {\n",
       "        text-align: right;\n",
       "    }\n",
       "</style>\n",
       "<table border=\"1\" class=\"dataframe\">\n",
       "  <thead>\n",
       "    <tr style=\"text-align: right;\">\n",
       "      <th></th>\n",
       "      <th>Id</th>\n",
       "      <th>SepalLengthCm</th>\n",
       "      <th>SepalWidthCm</th>\n",
       "      <th>PetalLengthCm</th>\n",
       "      <th>PetalWidthCm</th>\n",
       "    </tr>\n",
       "  </thead>\n",
       "  <tbody>\n",
       "    <tr>\n",
       "      <th>count</th>\n",
       "      <td>150.000000</td>\n",
       "      <td>150.000000</td>\n",
       "      <td>150.000000</td>\n",
       "      <td>150.000000</td>\n",
       "      <td>150.000000</td>\n",
       "    </tr>\n",
       "    <tr>\n",
       "      <th>mean</th>\n",
       "      <td>75.500000</td>\n",
       "      <td>5.843333</td>\n",
       "      <td>3.054000</td>\n",
       "      <td>3.758667</td>\n",
       "      <td>1.198667</td>\n",
       "    </tr>\n",
       "    <tr>\n",
       "      <th>std</th>\n",
       "      <td>43.445368</td>\n",
       "      <td>0.828066</td>\n",
       "      <td>0.433594</td>\n",
       "      <td>1.764420</td>\n",
       "      <td>0.763161</td>\n",
       "    </tr>\n",
       "    <tr>\n",
       "      <th>min</th>\n",
       "      <td>1.000000</td>\n",
       "      <td>4.300000</td>\n",
       "      <td>2.000000</td>\n",
       "      <td>1.000000</td>\n",
       "      <td>0.100000</td>\n",
       "    </tr>\n",
       "    <tr>\n",
       "      <th>25%</th>\n",
       "      <td>38.250000</td>\n",
       "      <td>5.100000</td>\n",
       "      <td>2.800000</td>\n",
       "      <td>1.600000</td>\n",
       "      <td>0.300000</td>\n",
       "    </tr>\n",
       "    <tr>\n",
       "      <th>50%</th>\n",
       "      <td>75.500000</td>\n",
       "      <td>5.800000</td>\n",
       "      <td>3.000000</td>\n",
       "      <td>4.350000</td>\n",
       "      <td>1.300000</td>\n",
       "    </tr>\n",
       "    <tr>\n",
       "      <th>75%</th>\n",
       "      <td>112.750000</td>\n",
       "      <td>6.400000</td>\n",
       "      <td>3.300000</td>\n",
       "      <td>5.100000</td>\n",
       "      <td>1.800000</td>\n",
       "    </tr>\n",
       "    <tr>\n",
       "      <th>max</th>\n",
       "      <td>150.000000</td>\n",
       "      <td>7.900000</td>\n",
       "      <td>4.400000</td>\n",
       "      <td>6.900000</td>\n",
       "      <td>2.500000</td>\n",
       "    </tr>\n",
       "  </tbody>\n",
       "</table>\n",
       "</div>"
      ],
      "text/plain": [
       "               Id  SepalLengthCm  SepalWidthCm  PetalLengthCm  PetalWidthCm\n",
       "count  150.000000     150.000000    150.000000     150.000000    150.000000\n",
       "mean    75.500000       5.843333      3.054000       3.758667      1.198667\n",
       "std     43.445368       0.828066      0.433594       1.764420      0.763161\n",
       "min      1.000000       4.300000      2.000000       1.000000      0.100000\n",
       "25%     38.250000       5.100000      2.800000       1.600000      0.300000\n",
       "50%     75.500000       5.800000      3.000000       4.350000      1.300000\n",
       "75%    112.750000       6.400000      3.300000       5.100000      1.800000\n",
       "max    150.000000       7.900000      4.400000       6.900000      2.500000"
      ]
     },
     "execution_count": 10,
     "metadata": {},
     "output_type": "execute_result"
    }
   ],
   "source": [
    "data.describe()"
   ]
  },
  {
   "cell_type": "markdown",
   "id": "dfd3a984",
   "metadata": {},
   "source": [
    "HANDLING WITH MISSING VALUES"
   ]
  },
  {
   "cell_type": "code",
   "execution_count": 11,
   "id": "e03b6ed5",
   "metadata": {},
   "outputs": [
    {
     "data": {
      "text/plain": [
       "False"
      ]
     },
     "execution_count": 11,
     "metadata": {},
     "output_type": "execute_result"
    }
   ],
   "source": [
    "data.isnull().values.any()"
   ]
  },
  {
   "cell_type": "code",
   "execution_count": 12,
   "id": "c8360920",
   "metadata": {},
   "outputs": [
    {
     "data": {
      "text/plain": [
       "Index(['Species'], dtype='object')"
      ]
     },
     "execution_count": 12,
     "metadata": {},
     "output_type": "execute_result"
    }
   ],
   "source": [
    "data.select_dtypes(include = 'object').columns"
   ]
  },
  {
   "cell_type": "code",
   "execution_count": 14,
   "id": "5d3966b0",
   "metadata": {},
   "outputs": [
    {
     "data": {
      "text/html": [
       "<div>\n",
       "<style scoped>\n",
       "    .dataframe tbody tr th:only-of-type {\n",
       "        vertical-align: middle;\n",
       "    }\n",
       "\n",
       "    .dataframe tbody tr th {\n",
       "        vertical-align: top;\n",
       "    }\n",
       "\n",
       "    .dataframe thead th {\n",
       "        text-align: right;\n",
       "    }\n",
       "</style>\n",
       "<table border=\"1\" class=\"dataframe\">\n",
       "  <thead>\n",
       "    <tr style=\"text-align: right;\">\n",
       "      <th></th>\n",
       "      <th>Id</th>\n",
       "      <th>SepalLengthCm</th>\n",
       "      <th>SepalWidthCm</th>\n",
       "      <th>PetalLengthCm</th>\n",
       "      <th>PetalWidthCm</th>\n",
       "    </tr>\n",
       "  </thead>\n",
       "  <tbody>\n",
       "    <tr>\n",
       "      <th>0</th>\n",
       "      <td>1</td>\n",
       "      <td>5.1</td>\n",
       "      <td>3.5</td>\n",
       "      <td>1.4</td>\n",
       "      <td>0.2</td>\n",
       "    </tr>\n",
       "    <tr>\n",
       "      <th>1</th>\n",
       "      <td>2</td>\n",
       "      <td>4.9</td>\n",
       "      <td>3.0</td>\n",
       "      <td>1.4</td>\n",
       "      <td>0.2</td>\n",
       "    </tr>\n",
       "    <tr>\n",
       "      <th>2</th>\n",
       "      <td>3</td>\n",
       "      <td>4.7</td>\n",
       "      <td>3.2</td>\n",
       "      <td>1.3</td>\n",
       "      <td>0.2</td>\n",
       "    </tr>\n",
       "    <tr>\n",
       "      <th>3</th>\n",
       "      <td>4</td>\n",
       "      <td>4.6</td>\n",
       "      <td>3.1</td>\n",
       "      <td>1.5</td>\n",
       "      <td>0.2</td>\n",
       "    </tr>\n",
       "    <tr>\n",
       "      <th>4</th>\n",
       "      <td>5</td>\n",
       "      <td>5.0</td>\n",
       "      <td>3.6</td>\n",
       "      <td>1.4</td>\n",
       "      <td>0.2</td>\n",
       "    </tr>\n",
       "  </tbody>\n",
       "</table>\n",
       "</div>"
      ],
      "text/plain": [
       "   Id  SepalLengthCm  SepalWidthCm  PetalLengthCm  PetalWidthCm\n",
       "0   1            5.1           3.5            1.4           0.2\n",
       "1   2            4.9           3.0            1.4           0.2\n",
       "2   3            4.7           3.2            1.3           0.2\n",
       "3   4            4.6           3.1            1.5           0.2\n",
       "4   5            5.0           3.6            1.4           0.2"
      ]
     },
     "execution_count": 14,
     "metadata": {},
     "output_type": "execute_result"
    }
   ],
   "source": [
    "x = data.drop(columns=['Species'])\n",
    "x.head()"
   ]
  },
  {
   "cell_type": "markdown",
   "id": "0dada0c0",
   "metadata": {},
   "source": [
    "FEATURE SCALING"
   ]
  },
  {
   "cell_type": "code",
   "execution_count": 15,
   "id": "643a296a",
   "metadata": {},
   "outputs": [],
   "source": [
    "from sklearn.preprocessing import StandardScaler\n",
    "sc = StandardScaler()\n",
    "x = sc.fit_transform(x)"
   ]
  },
  {
   "cell_type": "code",
   "execution_count": 16,
   "id": "e0164fc0",
   "metadata": {},
   "outputs": [
    {
     "data": {
      "text/plain": [
       "array([[-1.72054204e+00, -9.00681170e-01,  1.03205722e+00,\n",
       "        -1.34127240e+00, -1.31297673e+00],\n",
       "       [-1.69744751e+00, -1.14301691e+00, -1.24957601e-01,\n",
       "        -1.34127240e+00, -1.31297673e+00],\n",
       "       [-1.67435299e+00, -1.38535265e+00,  3.37848329e-01,\n",
       "        -1.39813811e+00, -1.31297673e+00],\n",
       "       [-1.65125846e+00, -1.50652052e+00,  1.06445364e-01,\n",
       "        -1.28440670e+00, -1.31297673e+00],\n",
       "       [-1.62816394e+00, -1.02184904e+00,  1.26346019e+00,\n",
       "        -1.34127240e+00, -1.31297673e+00],\n",
       "       [-1.60506942e+00, -5.37177559e-01,  1.95766909e+00,\n",
       "        -1.17067529e+00, -1.05003079e+00],\n",
       "       [-1.58197489e+00, -1.50652052e+00,  8.00654259e-01,\n",
       "        -1.34127240e+00, -1.18150376e+00],\n",
       "       [-1.55888037e+00, -1.02184904e+00,  8.00654259e-01,\n",
       "        -1.28440670e+00, -1.31297673e+00],\n",
       "       [-1.53578584e+00, -1.74885626e+00, -3.56360566e-01,\n",
       "        -1.34127240e+00, -1.31297673e+00],\n",
       "       [-1.51269132e+00, -1.14301691e+00,  1.06445364e-01,\n",
       "        -1.28440670e+00, -1.44444970e+00],\n",
       "       [-1.48959680e+00, -5.37177559e-01,  1.49486315e+00,\n",
       "        -1.28440670e+00, -1.31297673e+00],\n",
       "       [-1.46650227e+00, -1.26418478e+00,  8.00654259e-01,\n",
       "        -1.22754100e+00, -1.31297673e+00],\n",
       "       [-1.44340775e+00, -1.26418478e+00, -1.24957601e-01,\n",
       "        -1.34127240e+00, -1.44444970e+00],\n",
       "       [-1.42031323e+00, -1.87002413e+00, -1.24957601e-01,\n",
       "        -1.51186952e+00, -1.44444970e+00],\n",
       "       [-1.39721870e+00, -5.25060772e-02,  2.18907205e+00,\n",
       "        -1.45500381e+00, -1.31297673e+00],\n",
       "       [-1.37412418e+00, -1.73673948e-01,  3.11468391e+00,\n",
       "        -1.28440670e+00, -1.05003079e+00],\n",
       "       [-1.35102965e+00, -5.37177559e-01,  1.95766909e+00,\n",
       "        -1.39813811e+00, -1.05003079e+00],\n",
       "       [-1.32793513e+00, -9.00681170e-01,  1.03205722e+00,\n",
       "        -1.34127240e+00, -1.18150376e+00],\n",
       "       [-1.30484061e+00, -1.73673948e-01,  1.72626612e+00,\n",
       "        -1.17067529e+00, -1.18150376e+00],\n",
       "       [-1.28174608e+00, -9.00681170e-01,  1.72626612e+00,\n",
       "        -1.28440670e+00, -1.18150376e+00],\n",
       "       [-1.25865156e+00, -5.37177559e-01,  8.00654259e-01,\n",
       "        -1.17067529e+00, -1.31297673e+00],\n",
       "       [-1.23555703e+00, -9.00681170e-01,  1.49486315e+00,\n",
       "        -1.28440670e+00, -1.05003079e+00],\n",
       "       [-1.21246251e+00, -1.50652052e+00,  1.26346019e+00,\n",
       "        -1.56873522e+00, -1.31297673e+00],\n",
       "       [-1.18936799e+00, -9.00681170e-01,  5.69251294e-01,\n",
       "        -1.17067529e+00, -9.18557817e-01],\n",
       "       [-1.16627346e+00, -1.26418478e+00,  8.00654259e-01,\n",
       "        -1.05694388e+00, -1.31297673e+00],\n",
       "       [-1.14317894e+00, -1.02184904e+00, -1.24957601e-01,\n",
       "        -1.22754100e+00, -1.31297673e+00],\n",
       "       [-1.12008441e+00, -1.02184904e+00,  8.00654259e-01,\n",
       "        -1.22754100e+00, -1.05003079e+00],\n",
       "       [-1.09698989e+00, -7.79513300e-01,  1.03205722e+00,\n",
       "        -1.28440670e+00, -1.31297673e+00],\n",
       "       [-1.07389537e+00, -7.79513300e-01,  8.00654259e-01,\n",
       "        -1.34127240e+00, -1.31297673e+00],\n",
       "       [-1.05080084e+00, -1.38535265e+00,  3.37848329e-01,\n",
       "        -1.22754100e+00, -1.31297673e+00],\n",
       "       [-1.02770632e+00, -1.26418478e+00,  1.06445364e-01,\n",
       "        -1.22754100e+00, -1.31297673e+00],\n",
       "       [-1.00461179e+00, -5.37177559e-01,  8.00654259e-01,\n",
       "        -1.28440670e+00, -1.05003079e+00],\n",
       "       [-9.81517269e-01, -7.79513300e-01,  2.42047502e+00,\n",
       "        -1.28440670e+00, -1.44444970e+00],\n",
       "       [-9.58422745e-01, -4.16009689e-01,  2.65187798e+00,\n",
       "        -1.34127240e+00, -1.31297673e+00],\n",
       "       [-9.35328221e-01, -1.14301691e+00,  1.06445364e-01,\n",
       "        -1.28440670e+00, -1.44444970e+00],\n",
       "       [-9.12233697e-01, -1.02184904e+00,  3.37848329e-01,\n",
       "        -1.45500381e+00, -1.31297673e+00],\n",
       "       [-8.89139173e-01, -4.16009689e-01,  1.03205722e+00,\n",
       "        -1.39813811e+00, -1.31297673e+00],\n",
       "       [-8.66044649e-01, -1.14301691e+00,  1.06445364e-01,\n",
       "        -1.28440670e+00, -1.44444970e+00],\n",
       "       [-8.42950125e-01, -1.74885626e+00, -1.24957601e-01,\n",
       "        -1.39813811e+00, -1.31297673e+00],\n",
       "       [-8.19855601e-01, -9.00681170e-01,  8.00654259e-01,\n",
       "        -1.28440670e+00, -1.31297673e+00],\n",
       "       [-7.96761077e-01, -1.02184904e+00,  1.03205722e+00,\n",
       "        -1.39813811e+00, -1.18150376e+00],\n",
       "       [-7.73666553e-01, -1.62768839e+00, -1.74477836e+00,\n",
       "        -1.39813811e+00, -1.18150376e+00],\n",
       "       [-7.50572030e-01, -1.74885626e+00,  3.37848329e-01,\n",
       "        -1.39813811e+00, -1.31297673e+00],\n",
       "       [-7.27477506e-01, -1.02184904e+00,  1.03205722e+00,\n",
       "        -1.22754100e+00, -7.87084847e-01],\n",
       "       [-7.04382982e-01, -9.00681170e-01,  1.72626612e+00,\n",
       "        -1.05694388e+00, -1.05003079e+00],\n",
       "       [-6.81288458e-01, -1.26418478e+00, -1.24957601e-01,\n",
       "        -1.34127240e+00, -1.18150376e+00],\n",
       "       [-6.58193934e-01, -9.00681170e-01,  1.72626612e+00,\n",
       "        -1.22754100e+00, -1.31297673e+00],\n",
       "       [-6.35099410e-01, -1.50652052e+00,  3.37848329e-01,\n",
       "        -1.34127240e+00, -1.31297673e+00],\n",
       "       [-6.12004886e-01, -6.58345429e-01,  1.49486315e+00,\n",
       "        -1.28440670e+00, -1.31297673e+00],\n",
       "       [-5.88910362e-01, -1.02184904e+00,  5.69251294e-01,\n",
       "        -1.34127240e+00, -1.31297673e+00],\n",
       "       [-5.65815838e-01,  1.40150837e+00,  3.37848329e-01,\n",
       "         5.35295827e-01,  2.64698913e-01],\n",
       "       [-5.42721314e-01,  6.74501145e-01,  3.37848329e-01,\n",
       "         4.21564419e-01,  3.96171883e-01],\n",
       "       [-5.19626790e-01,  1.28034050e+00,  1.06445364e-01,\n",
       "         6.49027235e-01,  3.96171883e-01],\n",
       "       [-4.96532266e-01, -4.16009689e-01, -1.74477836e+00,\n",
       "         1.37235899e-01,  1.33225943e-01],\n",
       "       [-4.73437742e-01,  7.95669016e-01, -5.87763531e-01,\n",
       "         4.78430123e-01,  3.96171883e-01],\n",
       "       [-4.50343218e-01, -1.73673948e-01, -5.87763531e-01,\n",
       "         4.21564419e-01,  1.33225943e-01],\n",
       "       [-4.27248694e-01,  5.53333275e-01,  5.69251294e-01,\n",
       "         5.35295827e-01,  5.27644853e-01],\n",
       "       [-4.04154170e-01, -1.14301691e+00, -1.51337539e+00,\n",
       "        -2.60824029e-01, -2.61192967e-01],\n",
       "       [-3.81059646e-01,  9.16836886e-01, -3.56360566e-01,\n",
       "         4.78430123e-01,  1.33225943e-01],\n",
       "       [-3.57965122e-01, -7.79513300e-01, -8.19166497e-01,\n",
       "         8.03701950e-02,  2.64698913e-01],\n",
       "       [-3.34870598e-01, -1.02184904e+00, -2.43898725e+00,\n",
       "        -1.47092621e-01, -2.61192967e-01],\n",
       "       [-3.11776074e-01,  6.86617933e-02, -1.24957601e-01,\n",
       "         2.50967307e-01,  3.96171883e-01],\n",
       "       [-2.88681550e-01,  1.89829664e-01, -1.97618132e+00,\n",
       "         1.37235899e-01, -2.61192967e-01],\n",
       "       [-2.65587026e-01,  3.10997534e-01, -3.56360566e-01,\n",
       "         5.35295827e-01,  2.64698913e-01],\n",
       "       [-2.42492502e-01, -2.94841818e-01, -3.56360566e-01,\n",
       "        -9.02269170e-02,  1.33225943e-01],\n",
       "       [-2.19397978e-01,  1.03800476e+00,  1.06445364e-01,\n",
       "         3.64698715e-01,  2.64698913e-01],\n",
       "       [-1.96303454e-01, -2.94841818e-01, -1.24957601e-01,\n",
       "         4.21564419e-01,  3.96171883e-01],\n",
       "       [-1.73208930e-01, -5.25060772e-02, -8.19166497e-01,\n",
       "         1.94101603e-01, -2.61192967e-01],\n",
       "       [-1.50114406e-01,  4.32165405e-01, -1.97618132e+00,\n",
       "         4.21564419e-01,  3.96171883e-01],\n",
       "       [-1.27019882e-01, -2.94841818e-01, -1.28197243e+00,\n",
       "         8.03701950e-02, -1.29719997e-01],\n",
       "       [-1.03925358e-01,  6.86617933e-02,  3.37848329e-01,\n",
       "         5.92161531e-01,  7.90590793e-01],\n",
       "       [-8.08308339e-02,  3.10997534e-01, -5.87763531e-01,\n",
       "         1.37235899e-01,  1.33225943e-01],\n",
       "       [-5.77363100e-02,  5.53333275e-01, -1.28197243e+00,\n",
       "         6.49027235e-01,  3.96171883e-01],\n",
       "       [-3.46417860e-02,  3.10997534e-01, -5.87763531e-01,\n",
       "         5.35295827e-01,  1.75297293e-03],\n",
       "       [-1.15472620e-02,  6.74501145e-01, -3.56360566e-01,\n",
       "         3.07833011e-01,  1.33225943e-01],\n",
       "       [ 1.15472620e-02,  9.16836886e-01, -1.24957601e-01,\n",
       "         3.64698715e-01,  2.64698913e-01],\n",
       "       [ 3.46417860e-02,  1.15917263e+00, -5.87763531e-01,\n",
       "         5.92161531e-01,  2.64698913e-01],\n",
       "       [ 5.77363100e-02,  1.03800476e+00, -1.24957601e-01,\n",
       "         7.05892939e-01,  6.59117823e-01],\n",
       "       [ 8.08308339e-02,  1.89829664e-01, -3.56360566e-01,\n",
       "         4.21564419e-01,  3.96171883e-01],\n",
       "       [ 1.03925358e-01, -1.73673948e-01, -1.05056946e+00,\n",
       "        -1.47092621e-01, -2.61192967e-01],\n",
       "       [ 1.27019882e-01, -4.16009689e-01, -1.51337539e+00,\n",
       "         2.35044910e-02, -1.29719997e-01],\n",
       "       [ 1.50114406e-01, -4.16009689e-01, -1.51337539e+00,\n",
       "        -3.33612130e-02, -2.61192967e-01],\n",
       "       [ 1.73208930e-01, -5.25060772e-02, -8.19166497e-01,\n",
       "         8.03701950e-02,  1.75297293e-03],\n",
       "       [ 1.96303454e-01,  1.89829664e-01, -8.19166497e-01,\n",
       "         7.62758643e-01,  5.27644853e-01],\n",
       "       [ 2.19397978e-01, -5.37177559e-01, -1.24957601e-01,\n",
       "         4.21564419e-01,  3.96171883e-01],\n",
       "       [ 2.42492502e-01,  1.89829664e-01,  8.00654259e-01,\n",
       "         4.21564419e-01,  5.27644853e-01],\n",
       "       [ 2.65587026e-01,  1.03800476e+00,  1.06445364e-01,\n",
       "         5.35295827e-01,  3.96171883e-01],\n",
       "       [ 2.88681550e-01,  5.53333275e-01, -1.74477836e+00,\n",
       "         3.64698715e-01,  1.33225943e-01],\n",
       "       [ 3.11776074e-01, -2.94841818e-01, -1.24957601e-01,\n",
       "         1.94101603e-01,  1.33225943e-01],\n",
       "       [ 3.34870598e-01, -4.16009689e-01, -1.28197243e+00,\n",
       "         1.37235899e-01,  1.33225943e-01],\n",
       "       [ 3.57965122e-01, -4.16009689e-01, -1.05056946e+00,\n",
       "         3.64698715e-01,  1.75297293e-03],\n",
       "       [ 3.81059646e-01,  3.10997534e-01, -1.24957601e-01,\n",
       "         4.78430123e-01,  2.64698913e-01],\n",
       "       [ 4.04154170e-01, -5.25060772e-02, -1.05056946e+00,\n",
       "         1.37235899e-01,  1.75297293e-03],\n",
       "       [ 4.27248694e-01, -1.02184904e+00, -1.74477836e+00,\n",
       "        -2.60824029e-01, -2.61192967e-01],\n",
       "       [ 4.50343218e-01, -2.94841818e-01, -8.19166497e-01,\n",
       "         2.50967307e-01,  1.33225943e-01],\n",
       "       [ 4.73437742e-01, -1.73673948e-01, -1.24957601e-01,\n",
       "         2.50967307e-01,  1.75297293e-03],\n",
       "       [ 4.96532266e-01, -1.73673948e-01, -3.56360566e-01,\n",
       "         2.50967307e-01,  1.33225943e-01],\n",
       "       [ 5.19626790e-01,  4.32165405e-01, -3.56360566e-01,\n",
       "         3.07833011e-01,  1.33225943e-01],\n",
       "       [ 5.42721314e-01, -9.00681170e-01, -1.28197243e+00,\n",
       "        -4.31421141e-01, -1.29719997e-01],\n",
       "       [ 5.65815838e-01, -1.73673948e-01, -5.87763531e-01,\n",
       "         1.94101603e-01,  1.33225943e-01],\n",
       "       [ 5.88910362e-01,  5.53333275e-01,  5.69251294e-01,\n",
       "         1.27454998e+00,  1.71090158e+00],\n",
       "       [ 6.12004886e-01, -5.25060772e-02, -8.19166497e-01,\n",
       "         7.62758643e-01,  9.22063763e-01],\n",
       "       [ 6.35099410e-01,  1.52267624e+00, -1.24957601e-01,\n",
       "         1.21768427e+00,  1.18500970e+00],\n",
       "       [ 6.58193934e-01,  5.53333275e-01, -3.56360566e-01,\n",
       "         1.04708716e+00,  7.90590793e-01],\n",
       "       [ 6.81288458e-01,  7.95669016e-01, -1.24957601e-01,\n",
       "         1.16081857e+00,  1.31648267e+00],\n",
       "       [ 7.04382982e-01,  2.12851559e+00, -1.24957601e-01,\n",
       "         1.61574420e+00,  1.18500970e+00],\n",
       "       [ 7.27477506e-01, -1.14301691e+00, -1.28197243e+00,\n",
       "         4.21564419e-01,  6.59117823e-01],\n",
       "       [ 7.50572030e-01,  1.76501198e+00, -3.56360566e-01,\n",
       "         1.44514709e+00,  7.90590793e-01],\n",
       "       [ 7.73666553e-01,  1.03800476e+00, -1.28197243e+00,\n",
       "         1.16081857e+00,  7.90590793e-01],\n",
       "       [ 7.96761077e-01,  1.64384411e+00,  1.26346019e+00,\n",
       "         1.33141568e+00,  1.71090158e+00],\n",
       "       [ 8.19855601e-01,  7.95669016e-01,  3.37848329e-01,\n",
       "         7.62758643e-01,  1.05353673e+00],\n",
       "       [ 8.42950125e-01,  6.74501145e-01, -8.19166497e-01,\n",
       "         8.76490051e-01,  9.22063763e-01],\n",
       "       [ 8.66044649e-01,  1.15917263e+00, -1.24957601e-01,\n",
       "         9.90221459e-01,  1.18500970e+00],\n",
       "       [ 8.89139173e-01, -1.73673948e-01, -1.28197243e+00,\n",
       "         7.05892939e-01,  1.05353673e+00],\n",
       "       [ 9.12233697e-01, -5.25060772e-02, -5.87763531e-01,\n",
       "         7.62758643e-01,  1.57942861e+00],\n",
       "       [ 9.35328221e-01,  6.74501145e-01,  3.37848329e-01,\n",
       "         8.76490051e-01,  1.44795564e+00],\n",
       "       [ 9.58422745e-01,  7.95669016e-01, -1.24957601e-01,\n",
       "         9.90221459e-01,  7.90590793e-01],\n",
       "       [ 9.81517269e-01,  2.24968346e+00,  1.72626612e+00,\n",
       "         1.67260991e+00,  1.31648267e+00],\n",
       "       [ 1.00461179e+00,  2.24968346e+00, -1.05056946e+00,\n",
       "         1.78634131e+00,  1.44795564e+00],\n",
       "       [ 1.02770632e+00,  1.89829664e-01, -1.97618132e+00,\n",
       "         7.05892939e-01,  3.96171883e-01],\n",
       "       [ 1.05080084e+00,  1.28034050e+00,  3.37848329e-01,\n",
       "         1.10395287e+00,  1.44795564e+00],\n",
       "       [ 1.07389537e+00, -2.94841818e-01, -5.87763531e-01,\n",
       "         6.49027235e-01,  1.05353673e+00],\n",
       "       [ 1.09698989e+00,  2.24968346e+00, -5.87763531e-01,\n",
       "         1.67260991e+00,  1.05353673e+00],\n",
       "       [ 1.12008441e+00,  5.53333275e-01, -8.19166497e-01,\n",
       "         6.49027235e-01,  7.90590793e-01],\n",
       "       [ 1.14317894e+00,  1.03800476e+00,  5.69251294e-01,\n",
       "         1.10395287e+00,  1.18500970e+00],\n",
       "       [ 1.16627346e+00,  1.64384411e+00,  3.37848329e-01,\n",
       "         1.27454998e+00,  7.90590793e-01],\n",
       "       [ 1.18936799e+00,  4.32165405e-01, -5.87763531e-01,\n",
       "         5.92161531e-01,  7.90590793e-01],\n",
       "       [ 1.21246251e+00,  3.10997534e-01, -1.24957601e-01,\n",
       "         6.49027235e-01,  7.90590793e-01],\n",
       "       [ 1.23555703e+00,  6.74501145e-01, -5.87763531e-01,\n",
       "         1.04708716e+00,  1.18500970e+00],\n",
       "       [ 1.25865156e+00,  1.64384411e+00, -1.24957601e-01,\n",
       "         1.16081857e+00,  5.27644853e-01],\n",
       "       [ 1.28174608e+00,  1.88617985e+00, -5.87763531e-01,\n",
       "         1.33141568e+00,  9.22063763e-01],\n",
       "       [ 1.30484061e+00,  2.49201920e+00,  1.72626612e+00,\n",
       "         1.50201279e+00,  1.05353673e+00],\n",
       "       [ 1.32793513e+00,  6.74501145e-01, -5.87763531e-01,\n",
       "         1.04708716e+00,  1.31648267e+00],\n",
       "       [ 1.35102965e+00,  5.53333275e-01, -5.87763531e-01,\n",
       "         7.62758643e-01,  3.96171883e-01],\n",
       "       [ 1.37412418e+00,  3.10997534e-01, -1.05056946e+00,\n",
       "         1.04708716e+00,  2.64698913e-01],\n",
       "       [ 1.39721870e+00,  2.24968346e+00, -1.24957601e-01,\n",
       "         1.33141568e+00,  1.44795564e+00],\n",
       "       [ 1.42031323e+00,  5.53333275e-01,  8.00654259e-01,\n",
       "         1.04708716e+00,  1.57942861e+00],\n",
       "       [ 1.44340775e+00,  6.74501145e-01,  1.06445364e-01,\n",
       "         9.90221459e-01,  7.90590793e-01],\n",
       "       [ 1.46650227e+00,  1.89829664e-01, -1.24957601e-01,\n",
       "         5.92161531e-01,  7.90590793e-01],\n",
       "       [ 1.48959680e+00,  1.28034050e+00,  1.06445364e-01,\n",
       "         9.33355755e-01,  1.18500970e+00],\n",
       "       [ 1.51269132e+00,  1.03800476e+00,  1.06445364e-01,\n",
       "         1.04708716e+00,  1.57942861e+00],\n",
       "       [ 1.53578584e+00,  1.28034050e+00,  1.06445364e-01,\n",
       "         7.62758643e-01,  1.44795564e+00],\n",
       "       [ 1.55888037e+00, -5.25060772e-02, -8.19166497e-01,\n",
       "         7.62758643e-01,  9.22063763e-01],\n",
       "       [ 1.58197489e+00,  1.15917263e+00,  3.37848329e-01,\n",
       "         1.21768427e+00,  1.44795564e+00],\n",
       "       [ 1.60506942e+00,  1.03800476e+00,  5.69251294e-01,\n",
       "         1.10395287e+00,  1.71090158e+00],\n",
       "       [ 1.62816394e+00,  1.03800476e+00, -1.24957601e-01,\n",
       "         8.19624347e-01,  1.44795564e+00],\n",
       "       [ 1.65125846e+00,  5.53333275e-01, -1.28197243e+00,\n",
       "         7.05892939e-01,  9.22063763e-01],\n",
       "       [ 1.67435299e+00,  7.95669016e-01, -1.24957601e-01,\n",
       "         8.19624347e-01,  1.05353673e+00],\n",
       "       [ 1.69744751e+00,  4.32165405e-01,  8.00654259e-01,\n",
       "         9.33355755e-01,  1.44795564e+00],\n",
       "       [ 1.72054204e+00,  6.86617933e-02, -1.24957601e-01,\n",
       "         7.62758643e-01,  7.90590793e-01]])"
      ]
     },
     "execution_count": 16,
     "metadata": {},
     "output_type": "execute_result"
    }
   ],
   "source": [
    "x"
   ]
  },
  {
   "cell_type": "code",
   "execution_count": 24,
   "id": "84e940d6",
   "metadata": {},
   "outputs": [
    {
     "data": {
      "text/plain": [
       "(150, 5)"
      ]
     },
     "execution_count": 24,
     "metadata": {},
     "output_type": "execute_result"
    }
   ],
   "source": [
    "x.shape"
   ]
  },
  {
   "cell_type": "markdown",
   "id": "6418afe9",
   "metadata": {},
   "source": [
    "ELBOW METHOD"
   ]
  },
  {
   "cell_type": "code",
   "execution_count": 17,
   "id": "a2c5cc84",
   "metadata": {},
   "outputs": [
    {
     "data": {
      "image/png": "[encoded data removed]",
      "text/plain": [
       "<Figure size 640x480 with 1 Axes>"
      ]
     },
     "metadata": {},
     "output_type": "display_data"
    }
   ],
   "source": [
    "import warnings\n",
    "warnings.filterwarnings('ignore')\n",
    "from sklearn.cluster import KMeans\n",
    "wcss = []\n",
    "\n",
    "for i in range(1, 11):\n",
    "    kmeans = KMeans(n_clusters = i, init = 'k-means++', \n",
    "                    max_iter = 300, n_init = 10, random_state = 0)\n",
    "    kmeans.fit(x)\n",
    "    wcss.append(kmeans.inertia_)\n",
    "    \n",
    "# Plotting the results onto a line graph, \n",
    "# `allowing us to observe 'The elbow'\n",
    "plt.plot(range(1, 11), wcss)\n",
    "plt.title('The elbow method')\n",
    "plt.xlabel('Number of clusters')\n",
    "plt.ylabel('WCSS') # Within cluster sum of squares\n",
    "plt.show()"
   ]
  },
  {
   "cell_type": "markdown",
   "id": "d44dbaa3",
   "metadata": {},
   "source": [
    "TRAINING MODEL"
   ]
  },
  {
   "cell_type": "code",
   "execution_count": 27,
   "id": "2e4cb98a",
   "metadata": {},
   "outputs": [],
   "source": [
    "from sklearn.cluster import KMeans\n",
    "kmeans = KMeans(n_clusters=3, init='k-means++', random_state=0)"
   ]
  },
  {
   "cell_type": "code",
   "execution_count": 28,
   "id": "ca8bfcd7",
   "metadata": {},
   "outputs": [
    {
     "data": {
      "text/plain": [
       "array([0, 0, 0, 0, 0, 0, 0, 0, 0, 0, 0, 0, 0, 0, 0, 0, 0, 0, 0, 0, 0, 0,\n",
       "       0, 0, 0, 0, 0, 0, 0, 0, 0, 0, 0, 0, 0, 0, 0, 0, 0, 0, 0, 0, 0, 0,\n",
       "       0, 0, 0, 0, 0, 0, 2, 2, 2, 2, 2, 2, 2, 2, 2, 2, 2, 2, 2, 2, 2, 2,\n",
       "       2, 2, 2, 2, 2, 2, 2, 2, 2, 2, 2, 1, 2, 2, 2, 2, 2, 2, 2, 2, 1, 2,\n",
       "       2, 2, 2, 2, 2, 2, 2, 2, 2, 2, 2, 2, 1, 2, 1, 1, 1, 1, 2, 1, 1, 1,\n",
       "       1, 1, 1, 2, 1, 1, 1, 1, 1, 2, 1, 2, 1, 1, 1, 1, 1, 1, 1, 1, 1, 1,\n",
       "       1, 1, 1, 1, 1, 1, 1, 1, 1, 1, 1, 1, 1, 1, 1, 1, 1, 1])"
      ]
     },
     "execution_count": 28,
     "metadata": {},
     "output_type": "execute_result"
    }
   ],
   "source": [
    "y_kmeans = kmeans.fit_predict(x)\n",
    "y_kmeans"
   ]
  },
  {
   "cell_type": "markdown",
   "id": "979eabe4",
   "metadata": {},
   "source": [
    "VISUALIZE CLUSTERS"
   ]
  },
  {
   "cell_type": "code",
   "execution_count": 30,
   "id": "e63290db",
   "metadata": {},
   "outputs": [
    {
     "data": {
      "text/plain": [
       "<matplotlib.legend.Legend at 0x2076319db40>"
      ]
     },
     "execution_count": 30,
     "metadata": {},
     "output_type": "execute_result"
    },
    {
     "data": {
      "image/png": "[encoded data removed]",
      "text/plain": [
       "<Figure size 640x480 with 1 Axes>"
      ]
     },
     "metadata": {},
     "output_type": "display_data"
    }
   ],
   "source": [
    "plt.scatter(x[y_kmeans == 0, 0], x[y_kmeans == 0, 1], s = 100, c = 'red', label = 'Iris-setosa')\n",
    "plt.scatter(x[y_kmeans == 1, 0], x[y_kmeans == 1, 1], s = 100, c = 'blue', label = 'Iris-versicolour')\n",
    "plt.scatter(x[y_kmeans == 2, 0], x[y_kmeans == 2, 1],s = 100, c = 'green', label = 'Iris-virginica')\n",
    "\n",
    "# Plotting the centroids of the clusters\n",
    "plt.scatter(kmeans.cluster_centers_[:, 0], kmeans.cluster_centers_[:,1], \n",
    "            s = 100, c = 'yellow', label = 'Centroids')\n",
    "\n",
    "plt.legend()"
   ]
  },
  {
   "cell_type": "markdown",
   "id": "54fedac7",
   "metadata": {},
   "source": [
    "# THANK YOU"
   ]
  }
 ],
 "metadata": {
  "kernelspec": {
   "display_name": "Python 3 (ipykernel)",
   "language": "python",
   "name": "python3"
  },
  "language_info": {
   "codemirror_mode": {
    "name": "ipython",
    "version": 3
   },
   "file_extension": ".py",
   "mimetype": "text/x-python",
   "name": "python",
   "nbconvert_exporter": "python",
   "pygments_lexer": "ipython3",
   "version": "3.10.9"
  }
 },
 "nbformat": 4,
 "nbformat_minor": 5
}
